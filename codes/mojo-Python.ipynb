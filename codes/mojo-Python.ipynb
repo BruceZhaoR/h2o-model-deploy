{
 "cells": [
  {
   "cell_type": "markdown",
   "metadata": {},
   "source": [
    "# 模型导出与部署"
   ]
  },
  {
   "cell_type": "markdown",
   "metadata": {},
   "source": [
    "## 连接h2o"
   ]
  },
  {
   "cell_type": "code",
   "execution_count": 3,
   "metadata": {},
   "outputs": [
    {
     "data": {
      "text/plain": [
       "'E:\\\\B-jupyter-wd\\\\h2o-tutorial'"
      ]
     },
     "execution_count": 3,
     "metadata": {},
     "output_type": "execute_result"
    }
   ],
   "source": [
    "import h2o\n",
    "from h2o.estimators.gbm import H2OGradientBoostingEstimator as gbm\n",
    "import os\n",
    "os.getcwd()"
   ]
  },
  {
   "cell_type": "code",
   "execution_count": 4,
   "metadata": {},
   "outputs": [
    {
     "name": "stdout",
     "output_type": "stream",
     "text": [
      "Connecting to H2O server at http://localhost:54321... successful.\n"
     ]
    },
    {
     "data": {
      "text/html": [
       "<div style=\"overflow:auto\"><table style=\"width:50%\"><tr><td>H2O cluster uptime:</td>\n",
       "<td>9 hours 10 mins</td></tr>\n",
       "<tr><td>H2O cluster timezone:</td>\n",
       "<td>Asia/Shanghai</td></tr>\n",
       "<tr><td>H2O data parsing timezone:</td>\n",
       "<td>UTC</td></tr>\n",
       "<tr><td>H2O cluster version:</td>\n",
       "<td>3.20.0.3</td></tr>\n",
       "<tr><td>H2O cluster version age:</td>\n",
       "<td>1 month and 24 days </td></tr>\n",
       "<tr><td>H2O cluster name:</td>\n",
       "<td>h2o-rest</td></tr>\n",
       "<tr><td>H2O cluster total nodes:</td>\n",
       "<td>1</td></tr>\n",
       "<tr><td>H2O cluster free memory:</td>\n",
       "<td>742 Mb</td></tr>\n",
       "<tr><td>H2O cluster total cores:</td>\n",
       "<td>4</td></tr>\n",
       "<tr><td>H2O cluster allowed cores:</td>\n",
       "<td>4</td></tr>\n",
       "<tr><td>H2O cluster status:</td>\n",
       "<td>locked, healthy</td></tr>\n",
       "<tr><td>H2O connection url:</td>\n",
       "<td>http://localhost:54321</td></tr>\n",
       "<tr><td>H2O connection proxy:</td>\n",
       "<td>None</td></tr>\n",
       "<tr><td>H2O internal security:</td>\n",
       "<td>False</td></tr>\n",
       "<tr><td>H2O API Extensions:</td>\n",
       "<td>Algos, AutoML, Core V3, Core V4</td></tr>\n",
       "<tr><td>Python version:</td>\n",
       "<td>3.6.2 final</td></tr></table></div>"
      ],
      "text/plain": [
       "--------------------------  -------------------------------\n",
       "H2O cluster uptime:         9 hours 10 mins\n",
       "H2O cluster timezone:       Asia/Shanghai\n",
       "H2O data parsing timezone:  UTC\n",
       "H2O cluster version:        3.20.0.3\n",
       "H2O cluster version age:    1 month and 24 days\n",
       "H2O cluster name:           h2o-rest\n",
       "H2O cluster total nodes:    1\n",
       "H2O cluster free memory:    742 Mb\n",
       "H2O cluster total cores:    4\n",
       "H2O cluster allowed cores:  4\n",
       "H2O cluster status:         locked, healthy\n",
       "H2O connection url:         http://localhost:54321\n",
       "H2O connection proxy:\n",
       "H2O internal security:      False\n",
       "H2O API Extensions:         Algos, AutoML, Core V3, Core V4\n",
       "Python version:             3.6.2 final\n",
       "--------------------------  -------------------------------"
      ]
     },
     "metadata": {},
     "output_type": "execute_result"
    },
    {
     "data": {
      "text/plain": [
       "<H2OConnection to http://localhost:54321, no session>"
      ]
     },
     "execution_count": 4,
     "metadata": {},
     "output_type": "execute_result"
    }
   ],
   "source": [
    "h2o.connect(url=\"http://localhost:54321\")"
   ]
  },
  {
   "cell_type": "code",
   "execution_count": 5,
   "metadata": {},
   "outputs": [
    {
     "name": "stdout",
     "output_type": "stream",
     "text": [
      "Parse progress: |█████████████████████████████████████████████████████████| 100%\n"
     ]
    },
    {
     "data": {
      "text/html": [
       "<table>\n",
       "<thead>\n",
       "<tr><th style=\"text-align: right;\">  ID</th><th style=\"text-align: right;\">  CAPSULE</th><th style=\"text-align: right;\">  AGE</th><th style=\"text-align: right;\">  RACE</th><th style=\"text-align: right;\">  DPROS</th><th style=\"text-align: right;\">  DCAPS</th><th style=\"text-align: right;\">  PSA</th><th style=\"text-align: right;\">  VOL</th><th style=\"text-align: right;\">  GLEASON</th></tr>\n",
       "</thead>\n",
       "<tbody>\n",
       "<tr><td style=\"text-align: right;\">   1</td><td style=\"text-align: right;\">        0</td><td style=\"text-align: right;\">   65</td><td style=\"text-align: right;\">     1</td><td style=\"text-align: right;\">      2</td><td style=\"text-align: right;\">      1</td><td style=\"text-align: right;\">  1.4</td><td style=\"text-align: right;\">  0  </td><td style=\"text-align: right;\">        6</td></tr>\n",
       "<tr><td style=\"text-align: right;\">   2</td><td style=\"text-align: right;\">        0</td><td style=\"text-align: right;\">   72</td><td style=\"text-align: right;\">     1</td><td style=\"text-align: right;\">      3</td><td style=\"text-align: right;\">      2</td><td style=\"text-align: right;\">  6.7</td><td style=\"text-align: right;\">  0  </td><td style=\"text-align: right;\">        7</td></tr>\n",
       "<tr><td style=\"text-align: right;\">   3</td><td style=\"text-align: right;\">        0</td><td style=\"text-align: right;\">   70</td><td style=\"text-align: right;\">     1</td><td style=\"text-align: right;\">      1</td><td style=\"text-align: right;\">      2</td><td style=\"text-align: right;\">  4.9</td><td style=\"text-align: right;\">  0  </td><td style=\"text-align: right;\">        6</td></tr>\n",
       "<tr><td style=\"text-align: right;\">   4</td><td style=\"text-align: right;\">        0</td><td style=\"text-align: right;\">   76</td><td style=\"text-align: right;\">     2</td><td style=\"text-align: right;\">      2</td><td style=\"text-align: right;\">      1</td><td style=\"text-align: right;\"> 51.2</td><td style=\"text-align: right;\"> 20  </td><td style=\"text-align: right;\">        7</td></tr>\n",
       "<tr><td style=\"text-align: right;\">   5</td><td style=\"text-align: right;\">        0</td><td style=\"text-align: right;\">   69</td><td style=\"text-align: right;\">     1</td><td style=\"text-align: right;\">      1</td><td style=\"text-align: right;\">      1</td><td style=\"text-align: right;\"> 12.3</td><td style=\"text-align: right;\"> 55.9</td><td style=\"text-align: right;\">        6</td></tr>\n",
       "<tr><td style=\"text-align: right;\">   6</td><td style=\"text-align: right;\">        1</td><td style=\"text-align: right;\">   71</td><td style=\"text-align: right;\">     1</td><td style=\"text-align: right;\">      3</td><td style=\"text-align: right;\">      2</td><td style=\"text-align: right;\">  3.3</td><td style=\"text-align: right;\">  0  </td><td style=\"text-align: right;\">        8</td></tr>\n",
       "<tr><td style=\"text-align: right;\">   7</td><td style=\"text-align: right;\">        0</td><td style=\"text-align: right;\">   68</td><td style=\"text-align: right;\">     2</td><td style=\"text-align: right;\">      4</td><td style=\"text-align: right;\">      2</td><td style=\"text-align: right;\"> 31.9</td><td style=\"text-align: right;\">  0  </td><td style=\"text-align: right;\">        7</td></tr>\n",
       "<tr><td style=\"text-align: right;\">   8</td><td style=\"text-align: right;\">        0</td><td style=\"text-align: right;\">   61</td><td style=\"text-align: right;\">     2</td><td style=\"text-align: right;\">      4</td><td style=\"text-align: right;\">      2</td><td style=\"text-align: right;\"> 66.7</td><td style=\"text-align: right;\"> 27.2</td><td style=\"text-align: right;\">        7</td></tr>\n",
       "<tr><td style=\"text-align: right;\">   9</td><td style=\"text-align: right;\">        0</td><td style=\"text-align: right;\">   69</td><td style=\"text-align: right;\">     1</td><td style=\"text-align: right;\">      1</td><td style=\"text-align: right;\">      1</td><td style=\"text-align: right;\">  3.9</td><td style=\"text-align: right;\"> 24  </td><td style=\"text-align: right;\">        7</td></tr>\n",
       "<tr><td style=\"text-align: right;\">  10</td><td style=\"text-align: right;\">        0</td><td style=\"text-align: right;\">   68</td><td style=\"text-align: right;\">     2</td><td style=\"text-align: right;\">      1</td><td style=\"text-align: right;\">      2</td><td style=\"text-align: right;\"> 13  </td><td style=\"text-align: right;\">  0  </td><td style=\"text-align: right;\">        6</td></tr>\n",
       "</tbody>\n",
       "</table>"
      ]
     },
     "metadata": {},
     "output_type": "execute_result"
    },
    {
     "data": {
      "text/plain": [
       "<bound method H2OFrame.describe of >"
      ]
     },
     "execution_count": 5,
     "metadata": {},
     "output_type": "execute_result"
    }
   ],
   "source": [
    "df = h2o.import_file(\"./data/prostate.csv\")\n",
    "df.describe"
   ]
  },
  {
   "cell_type": "markdown",
   "metadata": {},
   "source": [
    "## 训练模型"
   ]
  },
  {
   "cell_type": "code",
   "execution_count": 6,
   "metadata": {},
   "outputs": [
    {
     "name": "stdout",
     "output_type": "stream",
     "text": [
      "gbm Model Build progress: |███████████████████████████████████████████████| 100%\n"
     ]
    }
   ],
   "source": [
    "# build gbm model\n",
    "df[\"CAPSULE\"] = df[\"CAPSULE\"].asfactor()\n",
    "model = gbm(distribution=\"bernoulli\",\n",
    "                   ntrees=100,\n",
    "                   max_depth=4,\n",
    "                   learn_rate=0.1)\n",
    "model.train(y=\"CAPSULE\",\n",
    "    x=[\"AGE\",\"RACE\",\"PSA\",\"GLEASON\"],\n",
    "    training_frame=df)"
   ]
  },
  {
   "cell_type": "code",
   "execution_count": 8,
   "metadata": {},
   "outputs": [
    {
     "name": "stdout",
     "output_type": "stream",
     "text": [
      "Model Details\n",
      "=============\n",
      "H2OGradientBoostingEstimator :  Gradient Boosting Machine\n",
      "Model Key:  GBM_model_python_1536024753790_205\n",
      "\n",
      "\n",
      "ModelMetricsBinomial: gbm\n",
      "** Reported on train data. **\n",
      "\n",
      "MSE: 0.09537207826782426\n",
      "RMSE: 0.30882370094897876\n",
      "LogLoss: 0.31983456503030233\n",
      "Mean Per-Class Error: 0.12241225418214274\n",
      "AUC: 0.9538308715556708\n",
      "Gini: 0.9076617431113416\n",
      "Confusion Matrix (Act/Pred) for max f1 @ threshold = 0.4595432309334924: \n"
     ]
    },
    {
     "data": {
      "text/html": [
       "<div style=\"overflow:auto\"><table style=\"width:50%\"><tr><td><b></b></td>\n",
       "<td><b>0</b></td>\n",
       "<td><b>1</b></td>\n",
       "<td><b>Error</b></td>\n",
       "<td><b>Rate</b></td></tr>\n",
       "<tr><td>0</td>\n",
       "<td>210.0</td>\n",
       "<td>17.0</td>\n",
       "<td>0.0749</td>\n",
       "<td> (17.0/227.0)</td></tr>\n",
       "<tr><td>1</td>\n",
       "<td>26.0</td>\n",
       "<td>127.0</td>\n",
       "<td>0.1699</td>\n",
       "<td> (26.0/153.0)</td></tr>\n",
       "<tr><td>Total</td>\n",
       "<td>236.0</td>\n",
       "<td>144.0</td>\n",
       "<td>0.1132</td>\n",
       "<td> (43.0/380.0)</td></tr></table></div>"
      ],
      "text/plain": [
       "       0    1    Error    Rate\n",
       "-----  ---  ---  -------  ------------\n",
       "0      210  17   0.0749   (17.0/227.0)\n",
       "1      26   127  0.1699   (26.0/153.0)\n",
       "Total  236  144  0.1132   (43.0/380.0)"
      ]
     },
     "metadata": {},
     "output_type": "execute_result"
    },
    {
     "name": "stdout",
     "output_type": "stream",
     "text": [
      "Maximum Metrics: Maximum metrics at their respective thresholds\n",
      "\n"
     ]
    },
    {
     "data": {
      "text/html": [
       "<div style=\"overflow:auto\"><table style=\"width:50%\"><tr><td><b>metric</b></td>\n",
       "<td><b>threshold</b></td>\n",
       "<td><b>value</b></td>\n",
       "<td><b>idx</b></td></tr>\n",
       "<tr><td>max f1</td>\n",
       "<td>0.4595432</td>\n",
       "<td>0.8552189</td>\n",
       "<td>140.0</td></tr>\n",
       "<tr><td>max f2</td>\n",
       "<td>0.2656908</td>\n",
       "<td>0.9036145</td>\n",
       "<td>211.0</td></tr>\n",
       "<tr><td>max f0point5</td>\n",
       "<td>0.5653699</td>\n",
       "<td>0.9048362</td>\n",
       "<td>120.0</td></tr>\n",
       "<tr><td>max accuracy</td>\n",
       "<td>0.5338179</td>\n",
       "<td>0.8894737</td>\n",
       "<td>123.0</td></tr>\n",
       "<tr><td>max precision</td>\n",
       "<td>0.9918155</td>\n",
       "<td>1.0</td>\n",
       "<td>0.0</td></tr>\n",
       "<tr><td>max recall</td>\n",
       "<td>0.1390368</td>\n",
       "<td>1.0</td>\n",
       "<td>278.0</td></tr>\n",
       "<tr><td>max specificity</td>\n",
       "<td>0.9918155</td>\n",
       "<td>1.0</td>\n",
       "<td>0.0</td></tr>\n",
       "<tr><td>max absolute_mcc</td>\n",
       "<td>0.5338179</td>\n",
       "<td>0.7728635</td>\n",
       "<td>123.0</td></tr>\n",
       "<tr><td>max min_per_class_accuracy</td>\n",
       "<td>0.4193073</td>\n",
       "<td>0.8692810</td>\n",
       "<td>157.0</td></tr>\n",
       "<tr><td>max mean_per_class_accuracy</td>\n",
       "<td>0.4595432</td>\n",
       "<td>0.8775877</td>\n",
       "<td>140.0</td></tr></table></div>"
      ],
      "text/plain": [
       "metric                       threshold    value     idx\n",
       "---------------------------  -----------  --------  -----\n",
       "max f1                       0.459543     0.855219  140\n",
       "max f2                       0.265691     0.903614  211\n",
       "max f0point5                 0.56537      0.904836  120\n",
       "max accuracy                 0.533818     0.889474  123\n",
       "max precision                0.991815     1         0\n",
       "max recall                   0.139037     1         278\n",
       "max specificity              0.991815     1         0\n",
       "max absolute_mcc             0.533818     0.772863  123\n",
       "max min_per_class_accuracy   0.419307     0.869281  157\n",
       "max mean_per_class_accuracy  0.459543     0.877588  140"
      ]
     },
     "metadata": {},
     "output_type": "execute_result"
    },
    {
     "name": "stdout",
     "output_type": "stream",
     "text": [
      "Gains/Lift Table: Avg response rate: 40.26 %\n",
      "\n"
     ]
    },
    {
     "data": {
      "text/html": [
       "<div style=\"overflow:auto\"><table style=\"width:50%\"><tr><td><b></b></td>\n",
       "<td><b>group</b></td>\n",
       "<td><b>cumulative_data_fraction</b></td>\n",
       "<td><b>lower_threshold</b></td>\n",
       "<td><b>lift</b></td>\n",
       "<td><b>cumulative_lift</b></td>\n",
       "<td><b>response_rate</b></td>\n",
       "<td><b>cumulative_response_rate</b></td>\n",
       "<td><b>capture_rate</b></td>\n",
       "<td><b>cumulative_capture_rate</b></td>\n",
       "<td><b>gain</b></td>\n",
       "<td><b>cumulative_gain</b></td></tr>\n",
       "<tr><td></td>\n",
       "<td>1</td>\n",
       "<td>0.0105263</td>\n",
       "<td>0.9880166</td>\n",
       "<td>2.4836601</td>\n",
       "<td>2.4836601</td>\n",
       "<td>1.0</td>\n",
       "<td>1.0</td>\n",
       "<td>0.0261438</td>\n",
       "<td>0.0261438</td>\n",
       "<td>148.3660131</td>\n",
       "<td>148.3660131</td></tr>\n",
       "<tr><td></td>\n",
       "<td>2</td>\n",
       "<td>0.0210526</td>\n",
       "<td>0.9858210</td>\n",
       "<td>2.4836601</td>\n",
       "<td>2.4836601</td>\n",
       "<td>1.0</td>\n",
       "<td>1.0</td>\n",
       "<td>0.0261438</td>\n",
       "<td>0.0522876</td>\n",
       "<td>148.3660131</td>\n",
       "<td>148.3660131</td></tr>\n",
       "<tr><td></td>\n",
       "<td>3</td>\n",
       "<td>0.0315789</td>\n",
       "<td>0.9804842</td>\n",
       "<td>2.4836601</td>\n",
       "<td>2.4836601</td>\n",
       "<td>1.0</td>\n",
       "<td>1.0</td>\n",
       "<td>0.0261438</td>\n",
       "<td>0.0784314</td>\n",
       "<td>148.3660131</td>\n",
       "<td>148.3660131</td></tr>\n",
       "<tr><td></td>\n",
       "<td>4</td>\n",
       "<td>0.0421053</td>\n",
       "<td>0.9750795</td>\n",
       "<td>2.4836601</td>\n",
       "<td>2.4836601</td>\n",
       "<td>1.0</td>\n",
       "<td>1.0</td>\n",
       "<td>0.0261438</td>\n",
       "<td>0.1045752</td>\n",
       "<td>148.3660131</td>\n",
       "<td>148.3660131</td></tr>\n",
       "<tr><td></td>\n",
       "<td>5</td>\n",
       "<td>0.05</td>\n",
       "<td>0.9643703</td>\n",
       "<td>2.4836601</td>\n",
       "<td>2.4836601</td>\n",
       "<td>1.0</td>\n",
       "<td>1.0</td>\n",
       "<td>0.0196078</td>\n",
       "<td>0.1241830</td>\n",
       "<td>148.3660131</td>\n",
       "<td>148.3660131</td></tr>\n",
       "<tr><td></td>\n",
       "<td>6</td>\n",
       "<td>0.1</td>\n",
       "<td>0.8843260</td>\n",
       "<td>2.4836601</td>\n",
       "<td>2.4836601</td>\n",
       "<td>1.0</td>\n",
       "<td>1.0</td>\n",
       "<td>0.1241830</td>\n",
       "<td>0.2483660</td>\n",
       "<td>148.3660131</td>\n",
       "<td>148.3660131</td></tr>\n",
       "<tr><td></td>\n",
       "<td>7</td>\n",
       "<td>0.15</td>\n",
       "<td>0.8061016</td>\n",
       "<td>2.4836601</td>\n",
       "<td>2.4836601</td>\n",
       "<td>1.0</td>\n",
       "<td>1.0</td>\n",
       "<td>0.1241830</td>\n",
       "<td>0.3725490</td>\n",
       "<td>148.3660131</td>\n",
       "<td>148.3660131</td></tr>\n",
       "<tr><td></td>\n",
       "<td>8</td>\n",
       "<td>0.2026316</td>\n",
       "<td>0.7227264</td>\n",
       "<td>2.3594771</td>\n",
       "<td>2.4514048</td>\n",
       "<td>0.95</td>\n",
       "<td>0.9870130</td>\n",
       "<td>0.1241830</td>\n",
       "<td>0.4967320</td>\n",
       "<td>135.9477124</td>\n",
       "<td>145.1404804</td></tr>\n",
       "<tr><td></td>\n",
       "<td>9</td>\n",
       "<td>0.3</td>\n",
       "<td>0.5911467</td>\n",
       "<td>2.2151563</td>\n",
       "<td>2.3747277</td>\n",
       "<td>0.8918919</td>\n",
       "<td>0.9561404</td>\n",
       "<td>0.2156863</td>\n",
       "<td>0.7124183</td>\n",
       "<td>121.5156333</td>\n",
       "<td>137.4727669</td></tr>\n",
       "<tr><td></td>\n",
       "<td>10</td>\n",
       "<td>0.4</td>\n",
       "<td>0.4372688</td>\n",
       "<td>1.3071895</td>\n",
       "<td>2.1078431</td>\n",
       "<td>0.5263158</td>\n",
       "<td>0.8486842</td>\n",
       "<td>0.1307190</td>\n",
       "<td>0.8431373</td>\n",
       "<td>30.7189542</td>\n",
       "<td>110.7843137</td></tr>\n",
       "<tr><td></td>\n",
       "<td>11</td>\n",
       "<td>0.5</td>\n",
       "<td>0.3237010</td>\n",
       "<td>0.7843137</td>\n",
       "<td>1.8431373</td>\n",
       "<td>0.3157895</td>\n",
       "<td>0.7421053</td>\n",
       "<td>0.0784314</td>\n",
       "<td>0.9215686</td>\n",
       "<td>-21.5686275</td>\n",
       "<td>84.3137255</td></tr>\n",
       "<tr><td></td>\n",
       "<td>12</td>\n",
       "<td>0.6</td>\n",
       "<td>0.2363925</td>\n",
       "<td>0.5882353</td>\n",
       "<td>1.6339869</td>\n",
       "<td>0.2368421</td>\n",
       "<td>0.6578947</td>\n",
       "<td>0.0588235</td>\n",
       "<td>0.9803922</td>\n",
       "<td>-41.1764706</td>\n",
       "<td>63.3986928</td></tr>\n",
       "<tr><td></td>\n",
       "<td>13</td>\n",
       "<td>0.7</td>\n",
       "<td>0.1686301</td>\n",
       "<td>0.1307190</td>\n",
       "<td>1.4192344</td>\n",
       "<td>0.0526316</td>\n",
       "<td>0.5714286</td>\n",
       "<td>0.0130719</td>\n",
       "<td>0.9934641</td>\n",
       "<td>-86.9281046</td>\n",
       "<td>41.9234360</td></tr>\n",
       "<tr><td></td>\n",
       "<td>14</td>\n",
       "<td>0.8</td>\n",
       "<td>0.1044987</td>\n",
       "<td>0.0653595</td>\n",
       "<td>1.25</td>\n",
       "<td>0.0263158</td>\n",
       "<td>0.5032895</td>\n",
       "<td>0.0065359</td>\n",
       "<td>1.0</td>\n",
       "<td>-93.4640523</td>\n",
       "<td>25.0</td></tr>\n",
       "<tr><td></td>\n",
       "<td>15</td>\n",
       "<td>0.9</td>\n",
       "<td>0.0354034</td>\n",
       "<td>0.0</td>\n",
       "<td>1.1111111</td>\n",
       "<td>0.0</td>\n",
       "<td>0.4473684</td>\n",
       "<td>0.0</td>\n",
       "<td>1.0</td>\n",
       "<td>-100.0</td>\n",
       "<td>11.1111111</td></tr>\n",
       "<tr><td></td>\n",
       "<td>16</td>\n",
       "<td>1.0</td>\n",
       "<td>0.0045033</td>\n",
       "<td>0.0</td>\n",
       "<td>1.0</td>\n",
       "<td>0.0</td>\n",
       "<td>0.4026316</td>\n",
       "<td>0.0</td>\n",
       "<td>1.0</td>\n",
       "<td>-100.0</td>\n",
       "<td>0.0</td></tr></table></div>"
      ],
      "text/plain": [
       "    group    cumulative_data_fraction    lower_threshold    lift       cumulative_lift    response_rate    cumulative_response_rate    capture_rate    cumulative_capture_rate    gain      cumulative_gain\n",
       "--  -------  --------------------------  -----------------  ---------  -----------------  ---------------  --------------------------  --------------  -------------------------  --------  -----------------\n",
       "    1        0.0105263                   0.988017           2.48366    2.48366            1                1                           0.0261438       0.0261438                  148.366   148.366\n",
       "    2        0.0210526                   0.985821           2.48366    2.48366            1                1                           0.0261438       0.0522876                  148.366   148.366\n",
       "    3        0.0315789                   0.980484           2.48366    2.48366            1                1                           0.0261438       0.0784314                  148.366   148.366\n",
       "    4        0.0421053                   0.97508            2.48366    2.48366            1                1                           0.0261438       0.104575                   148.366   148.366\n",
       "    5        0.05                        0.96437            2.48366    2.48366            1                1                           0.0196078       0.124183                   148.366   148.366\n",
       "    6        0.1                         0.884326           2.48366    2.48366            1                1                           0.124183        0.248366                   148.366   148.366\n",
       "    7        0.15                        0.806102           2.48366    2.48366            1                1                           0.124183        0.372549                   148.366   148.366\n",
       "    8        0.202632                    0.722726           2.35948    2.4514             0.95             0.987013                    0.124183        0.496732                   135.948   145.14\n",
       "    9        0.3                         0.591147           2.21516    2.37473            0.891892         0.95614                     0.215686        0.712418                   121.516   137.473\n",
       "    10       0.4                         0.437269           1.30719    2.10784            0.526316         0.848684                    0.130719        0.843137                   30.719    110.784\n",
       "    11       0.5                         0.323701           0.784314   1.84314            0.315789         0.742105                    0.0784314       0.921569                   -21.5686  84.3137\n",
       "    12       0.6                         0.236393           0.588235   1.63399            0.236842         0.657895                    0.0588235       0.980392                   -41.1765  63.3987\n",
       "    13       0.7                         0.16863            0.130719   1.41923            0.0526316        0.571429                    0.0130719       0.993464                   -86.9281  41.9234\n",
       "    14       0.8                         0.104499           0.0653595  1.25               0.0263158        0.503289                    0.00653595      1                          -93.4641  25\n",
       "    15       0.9                         0.0354034          0          1.11111            0                0.447368                    0               1                          -100      11.1111\n",
       "    16       1                           0.00450327         0          1                  0                0.402632                    0               1                          -100      0"
      ]
     },
     "metadata": {},
     "output_type": "execute_result"
    },
    {
     "name": "stdout",
     "output_type": "stream",
     "text": [
      "\n",
      "Scoring History: \n"
     ]
    },
    {
     "data": {
      "text/html": [
       "<div style=\"overflow:auto\"><table style=\"width:50%\"><tr><td><b></b></td>\n",
       "<td><b>timestamp</b></td>\n",
       "<td><b>duration</b></td>\n",
       "<td><b>number_of_trees</b></td>\n",
       "<td><b>training_rmse</b></td>\n",
       "<td><b>training_logloss</b></td>\n",
       "<td><b>training_auc</b></td>\n",
       "<td><b>training_lift</b></td>\n",
       "<td><b>training_classification_error</b></td></tr>\n",
       "<tr><td></td>\n",
       "<td>2018-09-04 18:45:55</td>\n",
       "<td> 0.005 sec</td>\n",
       "<td>0.0</td>\n",
       "<td>0.4904278</td>\n",
       "<td>0.6740643</td>\n",
       "<td>0.5</td>\n",
       "<td>1.0</td>\n",
       "<td>0.5973684</td></tr>\n",
       "<tr><td></td>\n",
       "<td>2018-09-04 18:45:55</td>\n",
       "<td> 0.108 sec</td>\n",
       "<td>1.0</td>\n",
       "<td>0.4750679</td>\n",
       "<td>0.6433381</td>\n",
       "<td>0.8257752</td>\n",
       "<td>2.4836601</td>\n",
       "<td>0.2552632</td></tr>\n",
       "<tr><td></td>\n",
       "<td>2018-09-04 18:45:55</td>\n",
       "<td> 0.120 sec</td>\n",
       "<td>2.0</td>\n",
       "<td>0.4622401</td>\n",
       "<td>0.6182986</td>\n",
       "<td>0.8382281</td>\n",
       "<td>2.4836601</td>\n",
       "<td>0.2447368</td></tr>\n",
       "<tr><td></td>\n",
       "<td>2018-09-04 18:45:55</td>\n",
       "<td> 0.123 sec</td>\n",
       "<td>3.0</td>\n",
       "<td>0.4517519</td>\n",
       "<td>0.5980328</td>\n",
       "<td>0.8375371</td>\n",
       "<td>2.4836601</td>\n",
       "<td>0.2421053</td></tr>\n",
       "<tr><td></td>\n",
       "<td>2018-09-04 18:45:55</td>\n",
       "<td> 0.130 sec</td>\n",
       "<td>4.0</td>\n",
       "<td>0.4427201</td>\n",
       "<td>0.5805990</td>\n",
       "<td>0.8399701</td>\n",
       "<td>2.4836601</td>\n",
       "<td>0.2552632</td></tr>\n",
       "<tr><td>---</td>\n",
       "<td>---</td>\n",
       "<td>---</td>\n",
       "<td>---</td>\n",
       "<td>---</td>\n",
       "<td>---</td>\n",
       "<td>---</td>\n",
       "<td>---</td>\n",
       "<td>---</td></tr>\n",
       "<tr><td></td>\n",
       "<td>2018-09-04 18:45:56</td>\n",
       "<td> 1.507 sec</td>\n",
       "<td>96.0</td>\n",
       "<td>0.3110051</td>\n",
       "<td>0.3232459</td>\n",
       "<td>0.9521609</td>\n",
       "<td>2.4836601</td>\n",
       "<td>0.1210526</td></tr>\n",
       "<tr><td></td>\n",
       "<td>2018-09-04 18:45:56</td>\n",
       "<td> 1.521 sec</td>\n",
       "<td>97.0</td>\n",
       "<td>0.3107489</td>\n",
       "<td>0.3227076</td>\n",
       "<td>0.9521321</td>\n",
       "<td>2.4836601</td>\n",
       "<td>0.1210526</td></tr>\n",
       "<tr><td></td>\n",
       "<td>2018-09-04 18:45:56</td>\n",
       "<td> 1.535 sec</td>\n",
       "<td>98.0</td>\n",
       "<td>0.3106031</td>\n",
       "<td>0.3223750</td>\n",
       "<td>0.9524488</td>\n",
       "<td>2.4836601</td>\n",
       "<td>0.1210526</td></tr>\n",
       "<tr><td></td>\n",
       "<td>2018-09-04 18:45:56</td>\n",
       "<td> 1.542 sec</td>\n",
       "<td>99.0</td>\n",
       "<td>0.3099432</td>\n",
       "<td>0.3214579</td>\n",
       "<td>0.9532262</td>\n",
       "<td>2.4836601</td>\n",
       "<td>0.1184211</td></tr>\n",
       "<tr><td></td>\n",
       "<td>2018-09-04 18:45:56</td>\n",
       "<td> 1.547 sec</td>\n",
       "<td>100.0</td>\n",
       "<td>0.3088237</td>\n",
       "<td>0.3198346</td>\n",
       "<td>0.9538309</td>\n",
       "<td>2.4836601</td>\n",
       "<td>0.1131579</td></tr></table></div>"
      ],
      "text/plain": [
       "     timestamp            duration    number_of_trees    training_rmse        training_logloss     training_auc        training_lift       training_classification_error\n",
       "---  -------------------  ----------  -----------------  -------------------  -------------------  ------------------  ------------------  -------------------------------\n",
       "     2018-09-04 18:45:55  0.005 sec   0.0                0.49042776285781164  0.6740642634011699   0.5                 1.0                 0.5973684210526315\n",
       "     2018-09-04 18:45:55  0.108 sec   1.0                0.4750679355867697   0.6433381013799812   0.8257752440183121  2.4836601307189543  0.25526315789473686\n",
       "     2018-09-04 18:45:55  0.120 sec   2.0                0.4622400878158951   0.6182986325869418   0.838228095937347   2.4836601307189543  0.24473684210526317\n",
       "     2018-09-04 18:45:55  0.123 sec   3.0                0.451751856965481    0.5980327931719659   0.8375370706285451  2.4836601307189543  0.24210526315789474\n",
       "     2018-09-04 18:45:55  0.130 sec   4.0                0.44272006161225097  0.5805990211149191   0.8399700555699519  2.4836601307189543  0.25526315789473686\n",
       "---  ---                  ---         ---                ---                  ---                  ---                 ---                 ---\n",
       "     2018-09-04 18:45:56  1.507 sec   96.0               0.31100512338193514  0.3232459140870145   0.952160893726066   2.4836601307189543  0.12105263157894737\n",
       "     2018-09-04 18:45:56  1.521 sec   97.0               0.3107488840025084   0.3227076154838876   0.952132101004866   2.4836601307189543  0.12105263157894737\n",
       "     2018-09-04 18:45:56  1.535 sec   98.0               0.31060306387399833  0.32237497449771135  0.9524488209380669  2.4836601307189543  0.12105263157894737\n",
       "     2018-09-04 18:45:56  1.542 sec   99.0               0.3099431594868752   0.32145794314133586  0.953226224410469   2.4836601307189543  0.11842105263157894\n",
       "     2018-09-04 18:45:56  1.547 sec   100.0              0.30882370094897876  0.31983456503030233  0.9538308715556708  2.4836601307189543  0.11315789473684211"
      ]
     },
     "metadata": {},
     "output_type": "execute_result"
    },
    {
     "name": "stdout",
     "output_type": "stream",
     "text": [
      "\n",
      "See the whole table with table.as_data_frame()\n",
      "Variable Importances: \n"
     ]
    },
    {
     "data": {
      "text/html": [
       "<div style=\"overflow:auto\"><table style=\"width:50%\"><tr><td><b>variable</b></td>\n",
       "<td><b>relative_importance</b></td>\n",
       "<td><b>scaled_importance</b></td>\n",
       "<td><b>percentage</b></td></tr>\n",
       "<tr><td>GLEASON</td>\n",
       "<td>110.5135117</td>\n",
       "<td>1.0</td>\n",
       "<td>0.4032956</td></tr>\n",
       "<tr><td>PSA</td>\n",
       "<td>101.5090179</td>\n",
       "<td>0.9185213</td>\n",
       "<td>0.3704356</td></tr>\n",
       "<tr><td>AGE</td>\n",
       "<td>58.5094147</td>\n",
       "<td>0.5294322</td>\n",
       "<td>0.2135177</td></tr>\n",
       "<tr><td>RACE</td>\n",
       "<td>3.4941578</td>\n",
       "<td>0.0316175</td>\n",
       "<td>0.0127512</td></tr></table></div>"
      ],
      "text/plain": [
       "variable    relative_importance    scaled_importance    percentage\n",
       "----------  ---------------------  -------------------  ------------\n",
       "GLEASON     110.514                1                    0.403296\n",
       "PSA         101.509                0.918521             0.370436\n",
       "AGE         58.5094                0.529432             0.213518\n",
       "RACE        3.49416                0.0316175            0.0127512"
      ]
     },
     "metadata": {},
     "output_type": "execute_result"
    },
    {
     "data": {
      "text/plain": [
       "<bound method ModelBase.summary of >"
      ]
     },
     "execution_count": 8,
     "metadata": {},
     "output_type": "execute_result"
    }
   ],
   "source": [
    "model.summary"
   ]
  },
  {
   "cell_type": "markdown",
   "metadata": {},
   "source": [
    "## 模型结果导出"
   ]
  },
  {
   "cell_type": "code",
   "execution_count": 9,
   "metadata": {},
   "outputs": [
    {
     "name": "stdout",
     "output_type": "stream",
     "text": [
      "Model saved to E:\\B-jupyter-wd\\h2o-tutorial\\experiments\\GBM_model_python_1536024753790_205.zip\n"
     ]
    }
   ],
   "source": [
    "# mojo\n",
    "# 已经下载过h2o-genmodel.jar了\n",
    "info = model.download_mojo(path=\"./experiments\",get_genmodel_jar=False)\n",
    "print(\"Model saved to \" + info)"
   ]
  },
  {
   "cell_type": "code",
   "execution_count": 10,
   "metadata": {},
   "outputs": [
    {
     "data": {
      "text/plain": [
       "'E:\\\\B-jupyter-wd\\\\h2o-tutorial\\\\experiments\\\\GBM_model_python_1536024753790_205.java'"
      ]
     },
     "execution_count": 10,
     "metadata": {},
     "output_type": "execute_result"
    }
   ],
   "source": [
    "# pojo\n",
    "model.download_pojo(path=\"./experiments/\")"
   ]
  },
  {
   "cell_type": "markdown",
   "metadata": {},
   "source": [
    "## 部署说明\n",
    "\n",
    "h2o提供两种部署方式：MOJO和POJO。\n",
    "\n",
    "MOJO: 适用于复杂模型，例如gbm,xgboost, ensamble model 等，需要依赖模型生成的文件。    \n",
    "POJO: 适用于分类和回归模型，以Java class的形式调用，不能超过1G，较简单的模型比mojo速度快。\n"
   ]
  }
 ],
 "metadata": {
  "kernelspec": {
   "display_name": "Python 3",
   "language": "python",
   "name": "python3"
  },
  "language_info": {
   "codemirror_mode": {
    "name": "ipython",
    "version": 3
   },
   "file_extension": ".py",
   "mimetype": "text/x-python",
   "name": "python",
   "nbconvert_exporter": "python",
   "pygments_lexer": "ipython3",
   "version": "3.6.2"
  }
 },
 "nbformat": 4,
 "nbformat_minor": 2
}
