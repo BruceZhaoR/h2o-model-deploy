{
 "cells": [
  {
   "cell_type": "markdown",
   "metadata": {},
   "source": [
    "# 模型导出与部署"
   ]
  },
  {
   "cell_type": "markdown",
   "metadata": {},
   "source": [
    "## 连接h2o"
   ]
  },
  {
   "cell_type": "code",
   "execution_count": 1,
   "metadata": {},
   "outputs": [
    {
     "name": "stderr",
     "output_type": "stream",
     "text": [
      "\n",
      "----------------------------------------------------------------------\n",
      "\n",
      "Your next step is to start H2O:\n",
      "    > h2o.init()\n",
      "\n",
      "For H2O package documentation, ask for help:\n",
      "    > ??h2o\n",
      "\n",
      "After starting H2O, you can use the Web UI at http://localhost:54321\n",
      "For more information visit http://docs.h2o.ai\n",
      "\n",
      "----------------------------------------------------------------------\n",
      "\n",
      "\n",
      "Attaching package: 'h2o'\n",
      "\n",
      "The following objects are masked from 'package:stats':\n",
      "\n",
      "    cor, sd, var\n",
      "\n",
      "The following objects are masked from 'package:base':\n",
      "\n",
      "    %*%, %in%, &&, ||, apply, as.factor, as.numeric, colnames,\n",
      "    colnames<-, ifelse, is.character, is.factor, is.numeric, log,\n",
      "    log10, log1p, log2, round, signif, trunc\n",
      "\n"
     ]
    }
   ],
   "source": [
    "library(h2o)"
   ]
  },
  {
   "cell_type": "code",
   "execution_count": 2,
   "metadata": {},
   "outputs": [
    {
     "name": "stdout",
     "output_type": "stream",
     "text": [
      " Connection successful!\n",
      "\n",
      "R is connected to the H2O cluster: \n",
      "    H2O cluster uptime:         1 hours 21 minutes \n",
      "    H2O cluster timezone:       Asia/Shanghai \n",
      "    H2O data parsing timezone:  UTC \n",
      "    H2O cluster version:        3.20.0.3 \n",
      "    H2O cluster version age:    1 month and 24 days  \n",
      "    H2O cluster name:           h2o-rest \n",
      "    H2O cluster total nodes:    1 \n",
      "    H2O cluster total memory:   0.73 GB \n",
      "    H2O cluster total cores:    4 \n",
      "    H2O cluster allowed cores:  4 \n",
      "    H2O cluster healthy:        TRUE \n",
      "    H2O Connection ip:          localhost \n",
      "    H2O Connection port:        54321 \n",
      "    H2O Connection proxy:       NA \n",
      "    H2O Internal Security:      FALSE \n",
      "    H2O API Extensions:         Algos, AutoML, Core V3, Core V4 \n",
      "    R Version:                  R version 3.5.1 (2018-07-02) \n",
      "\n"
     ]
    }
   ],
   "source": [
    "h2o.init(startH2O = FALSE)"
   ]
  },
  {
   "cell_type": "code",
   "execution_count": 4,
   "metadata": {},
   "outputs": [
    {
     "data": {
      "text/html": [
       "'E:/B-jupyter-wd/h2o-tutorial'"
      ],
      "text/latex": [
       "'E:/B-jupyter-wd/h2o-tutorial'"
      ],
      "text/markdown": [
       "'E:/B-jupyter-wd/h2o-tutorial'"
      ],
      "text/plain": [
       "[1] \"E:/B-jupyter-wd/h2o-tutorial\""
      ]
     },
     "metadata": {},
     "output_type": "display_data"
    }
   ],
   "source": [
    "getwd()"
   ]
  },
  {
   "cell_type": "markdown",
   "metadata": {},
   "source": [
    "## 导入数据训练模型"
   ]
  },
  {
   "cell_type": "code",
   "execution_count": 5,
   "metadata": {},
   "outputs": [
    {
     "name": "stdout",
     "output_type": "stream",
     "text": [
      "  |======================================================================| 100%\n"
     ]
    },
    {
     "data": {
      "text/html": [
       "<table>\n",
       "<thead><tr><th scope=col>Label</th><th scope=col>Type</th><th scope=col>Missing</th><th scope=col>Zeros</th><th scope=col>PosInf</th><th scope=col>NegInf</th><th scope=col>Min</th><th scope=col>Max</th><th scope=col>Mean</th><th scope=col>Sigma</th><th scope=col>Cardinality</th></tr></thead>\n",
       "<tbody>\n",
       "\t<tr><td>ID         </td><td>int        </td><td>0          </td><td>  0        </td><td>0          </td><td>0          </td><td> 1.0       </td><td>380.0      </td><td>190.5000000</td><td>109.8407939</td><td>NA         </td></tr>\n",
       "\t<tr><td>CAPSULE    </td><td>int        </td><td>0          </td><td>227        </td><td>0          </td><td>0          </td><td> 0.0       </td><td>  1.0      </td><td>  0.4026316</td><td>  0.4910743</td><td>NA         </td></tr>\n",
       "\t<tr><td>AGE        </td><td>int        </td><td>0          </td><td>  0        </td><td>0          </td><td>0          </td><td>43.0       </td><td> 79.0      </td><td> 66.0394737</td><td>  6.5270713</td><td>NA         </td></tr>\n",
       "\t<tr><td>RACE       </td><td>int        </td><td>0          </td><td>  3        </td><td>0          </td><td>0          </td><td> 0.0       </td><td>  2.0      </td><td>  1.0868421</td><td>  0.3087733</td><td>NA         </td></tr>\n",
       "\t<tr><td>DPROS      </td><td>int        </td><td>0          </td><td>  0        </td><td>0          </td><td>0          </td><td> 1.0       </td><td>  4.0      </td><td>  2.2710526</td><td>  1.0001076</td><td>NA         </td></tr>\n",
       "\t<tr><td>DCAPS      </td><td>int        </td><td>0          </td><td>  0        </td><td>0          </td><td>0          </td><td> 1.0       </td><td>  2.0      </td><td>  1.1078947</td><td>  0.3106564</td><td>NA         </td></tr>\n",
       "\t<tr><td>PSA        </td><td>real       </td><td>0          </td><td>  0        </td><td>0          </td><td>0          </td><td> 0.3       </td><td>139.7      </td><td> 15.4086316</td><td> 19.9975727</td><td>NA         </td></tr>\n",
       "\t<tr><td>VOL        </td><td>real       </td><td>0          </td><td>167        </td><td>0          </td><td>0          </td><td> 0.0       </td><td> 97.6      </td><td> 15.8129211</td><td> 18.3476200</td><td>NA         </td></tr>\n",
       "\t<tr><td>GLEASON    </td><td>int        </td><td>0          </td><td>  2        </td><td>0          </td><td>0          </td><td> 0.0       </td><td>  9.0      </td><td>  6.3842105</td><td>  1.0919534</td><td>NA         </td></tr>\n",
       "</tbody>\n",
       "</table>\n"
      ],
      "text/latex": [
       "\\begin{tabular}{r|lllllllllll}\n",
       " Label & Type & Missing & Zeros & PosInf & NegInf & Min & Max & Mean & Sigma & Cardinality\\\\\n",
       "\\hline\n",
       "\t ID          & int         & 0           &   0         & 0           & 0           &  1.0        & 380.0       & 190.5000000 & 109.8407939 & NA         \\\\\n",
       "\t CAPSULE     & int         & 0           & 227         & 0           & 0           &  0.0        &   1.0       &   0.4026316 &   0.4910743 & NA         \\\\\n",
       "\t AGE         & int         & 0           &   0         & 0           & 0           & 43.0        &  79.0       &  66.0394737 &   6.5270713 & NA         \\\\\n",
       "\t RACE        & int         & 0           &   3         & 0           & 0           &  0.0        &   2.0       &   1.0868421 &   0.3087733 & NA         \\\\\n",
       "\t DPROS       & int         & 0           &   0         & 0           & 0           &  1.0        &   4.0       &   2.2710526 &   1.0001076 & NA         \\\\\n",
       "\t DCAPS       & int         & 0           &   0         & 0           & 0           &  1.0        &   2.0       &   1.1078947 &   0.3106564 & NA         \\\\\n",
       "\t PSA         & real        & 0           &   0         & 0           & 0           &  0.3        & 139.7       &  15.4086316 &  19.9975727 & NA         \\\\\n",
       "\t VOL         & real        & 0           & 167         & 0           & 0           &  0.0        &  97.6       &  15.8129211 &  18.3476200 & NA         \\\\\n",
       "\t GLEASON     & int         & 0           &   2         & 0           & 0           &  0.0        &   9.0       &   6.3842105 &   1.0919534 & NA         \\\\\n",
       "\\end{tabular}\n"
      ],
      "text/markdown": [
       "\n",
       "Label | Type | Missing | Zeros | PosInf | NegInf | Min | Max | Mean | Sigma | Cardinality | \n",
       "|---|---|---|---|---|---|---|---|---|\n",
       "| ID          | int         | 0           |   0         | 0           | 0           |  1.0        | 380.0       | 190.5000000 | 109.8407939 | NA          | \n",
       "| CAPSULE     | int         | 0           | 227         | 0           | 0           |  0.0        |   1.0       |   0.4026316 |   0.4910743 | NA          | \n",
       "| AGE         | int         | 0           |   0         | 0           | 0           | 43.0        |  79.0       |  66.0394737 |   6.5270713 | NA          | \n",
       "| RACE        | int         | 0           |   3         | 0           | 0           |  0.0        |   2.0       |   1.0868421 |   0.3087733 | NA          | \n",
       "| DPROS       | int         | 0           |   0         | 0           | 0           |  1.0        |   4.0       |   2.2710526 |   1.0001076 | NA          | \n",
       "| DCAPS       | int         | 0           |   0         | 0           | 0           |  1.0        |   2.0       |   1.1078947 |   0.3106564 | NA          | \n",
       "| PSA         | real        | 0           |   0         | 0           | 0           |  0.3        | 139.7       |  15.4086316 |  19.9975727 | NA          | \n",
       "| VOL         | real        | 0           | 167         | 0           | 0           |  0.0        |  97.6       |  15.8129211 |  18.3476200 | NA          | \n",
       "| GLEASON     | int         | 0           |   2         | 0           | 0           |  0.0        |   9.0       |   6.3842105 |   1.0919534 | NA          | \n",
       "\n",
       "\n"
      ],
      "text/plain": [
       "  Label   Type Missing Zeros PosInf NegInf Min  Max   Mean        Sigma      \n",
       "1 ID      int  0         0   0      0       1.0 380.0 190.5000000 109.8407939\n",
       "2 CAPSULE int  0       227   0      0       0.0   1.0   0.4026316   0.4910743\n",
       "3 AGE     int  0         0   0      0      43.0  79.0  66.0394737   6.5270713\n",
       "4 RACE    int  0         3   0      0       0.0   2.0   1.0868421   0.3087733\n",
       "5 DPROS   int  0         0   0      0       1.0   4.0   2.2710526   1.0001076\n",
       "6 DCAPS   int  0         0   0      0       1.0   2.0   1.1078947   0.3106564\n",
       "7 PSA     real 0         0   0      0       0.3 139.7  15.4086316  19.9975727\n",
       "8 VOL     real 0       167   0      0       0.0  97.6  15.8129211  18.3476200\n",
       "9 GLEASON int  0         2   0      0       0.0   9.0   6.3842105   1.0919534\n",
       "  Cardinality\n",
       "1 NA         \n",
       "2 NA         \n",
       "3 NA         \n",
       "4 NA         \n",
       "5 NA         \n",
       "6 NA         \n",
       "7 NA         \n",
       "8 NA         \n",
       "9 NA         "
      ]
     },
     "metadata": {},
     "output_type": "display_data"
    }
   ],
   "source": [
    "df <- h2o.importFile(normalizePath(\"./data/prostate.csv\"))\n",
    "h2o.describe(df)"
   ]
  },
  {
   "cell_type": "code",
   "execution_count": 10,
   "metadata": {},
   "outputs": [
    {
     "name": "stdout",
     "output_type": "stream",
     "text": [
      "  |======================================================================| 100%\n"
     ]
    }
   ],
   "source": [
    "df$CAPSULE <- as.factor(df$CAPSULE)\n",
    "model <- h2o.gbm(y=\"CAPSULE\",\n",
    "        x=c(\"AGE\", \"RACE\", \"PSA\", \"GLEASON\"),\n",
    "        training_frame=df,\n",
    "        distribution=\"bernoulli\",\n",
    "        ntrees=100,\n",
    "        max_depth=4,\n",
    "        learn_rate=0.1)"
   ]
  },
  {
   "cell_type": "code",
   "execution_count": 12,
   "metadata": {},
   "outputs": [],
   "source": [
    "if(!dir.exists(\"./experiments\")) dir.create(\"./experiments\")"
   ]
  },
  {
   "cell_type": "code",
   "execution_count": 15,
   "metadata": {},
   "outputs": [
    {
     "name": "stdout",
     "output_type": "stream",
     "text": [
      "Model Details:\n",
      "==============\n",
      "\n",
      "H2OBinomialModel: gbm\n",
      "Model Key:  GBM_model_R_1536024753790_103 \n",
      "Model Summary: \n",
      "  number_of_trees number_of_internal_trees model_size_in_bytes min_depth\n",
      "1             100                      100               18758         4\n",
      "  max_depth mean_depth min_leaves max_leaves mean_leaves\n",
      "1         4    4.00000          5         15     9.99000\n",
      "\n",
      "H2OBinomialMetrics: gbm\n",
      "** Reported on training data. **\n",
      "\n",
      "MSE:  0.09537208\n",
      "RMSE:  0.3088237\n",
      "LogLoss:  0.3198346\n",
      "Mean Per-Class Error:  0.1224123\n",
      "AUC:  0.9538309\n",
      "Gini:  0.9076617\n",
      "\n",
      "Confusion Matrix (vertical: actual; across: predicted) for F1-optimal threshold:\n",
      "         0   1    Error     Rate\n",
      "0      210  17 0.074890  =17/227\n",
      "1       26 127 0.169935  =26/153\n",
      "Totals 236 144 0.113158  =43/380\n",
      "\n",
      "Maximum Metrics: Maximum metrics at their respective thresholds\n",
      "                        metric threshold    value idx\n",
      "1                       max f1  0.459543 0.855219 140\n",
      "2                       max f2  0.265691 0.903614 211\n",
      "3                 max f0point5  0.565370 0.904836 120\n",
      "4                 max accuracy  0.533818 0.889474 123\n",
      "5                max precision  0.991815 1.000000   0\n",
      "6                   max recall  0.139037 1.000000 278\n",
      "7              max specificity  0.991815 1.000000   0\n",
      "8             max absolute_mcc  0.533818 0.772863 123\n",
      "9   max min_per_class_accuracy  0.419307 0.869281 157\n",
      "10 max mean_per_class_accuracy  0.459543 0.877588 140\n",
      "\n",
      "Gains/Lift Table: Extract with `h2o.gainsLift(<model>, <data>)` or `h2o.gainsLift(<model>, valid=<T/F>, xval=<T/F>)`\n",
      "\n",
      "\n",
      "\n",
      "Scoring History: \n",
      "            timestamp   duration number_of_trees training_rmse training_logloss\n",
      "1 2018-09-04 11:24:08  0.003 sec               0       0.49043          0.67406\n",
      "2 2018-09-04 11:24:08  0.039 sec               1       0.47507          0.64334\n",
      "3 2018-09-04 11:24:08  0.069 sec               2       0.46224          0.61830\n",
      "4 2018-09-04 11:24:08  0.100 sec               3       0.45175          0.59803\n",
      "5 2018-09-04 11:24:08  0.108 sec               4       0.44272          0.58060\n",
      "  training_auc training_lift training_classification_error\n",
      "1      0.50000       1.00000                       0.59737\n",
      "2      0.82578       2.48366                       0.25526\n",
      "3      0.83823       2.48366                       0.24474\n",
      "4      0.83754       2.48366                       0.24211\n",
      "5      0.83997       2.48366                       0.25526\n",
      "\n",
      "---\n",
      "              timestamp   duration number_of_trees training_rmse\n",
      "96  2018-09-04 11:24:09  0.645 sec              95       0.31191\n",
      "97  2018-09-04 11:24:09  0.653 sec              96       0.31101\n",
      "98  2018-09-04 11:24:09  0.658 sec              97       0.31075\n",
      "99  2018-09-04 11:24:09  0.667 sec              98       0.31060\n",
      "100 2018-09-04 11:24:09  0.672 sec              99       0.30994\n",
      "101 2018-09-04 11:24:09  0.677 sec             100       0.30882\n",
      "    training_logloss training_auc training_lift training_classification_error\n",
      "96           0.32473      0.95141       2.48366                       0.12105\n",
      "97           0.32325      0.95216       2.48366                       0.12105\n",
      "98           0.32271      0.95213       2.48366                       0.12105\n",
      "99           0.32237      0.95245       2.48366                       0.12105\n",
      "100          0.32146      0.95323       2.48366                       0.11842\n",
      "101          0.31983      0.95383       2.48366                       0.11316\n",
      "\n",
      "Variable Importances: (Extract with `h2o.varimp`) \n",
      "=================================================\n",
      "\n",
      "Variable Importances: \n",
      "  variable relative_importance scaled_importance percentage\n",
      "1  GLEASON          110.513512          1.000000   0.403296\n",
      "2      PSA          101.509018          0.918521   0.370436\n",
      "3      AGE           58.509415          0.529432   0.213518\n",
      "4     RACE            3.494158          0.031617   0.012751\n"
     ]
    }
   ],
   "source": [
    "summary(model)"
   ]
  },
  {
   "cell_type": "markdown",
   "metadata": {},
   "source": [
    "## 模型结果导出"
   ]
  },
  {
   "cell_type": "code",
   "execution_count": 19,
   "metadata": {},
   "outputs": [
    {
     "name": "stdout",
     "output_type": "stream",
     "text": [
      "[1] \"Model saved to GBM_model_R_1536024753790_103.zip\"\n"
     ]
    }
   ],
   "source": [
    "h2o.download_mojo(model, path = file.path(getwd(),\"experiments\"),get_genmodel_jar = TRUE)"
   ]
  },
  {
   "cell_type": "code",
   "execution_count": 21,
   "metadata": {},
   "outputs": [
    {
     "data": {
      "text/html": [
       "'GBM_model_R_1536024753790_103.java'"
      ],
      "text/latex": [
       "'GBM\\_model\\_R\\_1536024753790\\_103.java'"
      ],
      "text/markdown": [
       "'GBM_model_R_1536024753790_103.java'"
      ],
      "text/plain": [
       "[1] \"GBM_model_R_1536024753790_103.java\""
      ]
     },
     "metadata": {},
     "output_type": "display_data"
    }
   ],
   "source": [
    "h2o.download_pojo(model,path = file.path(getwd(),\"experiments\"))"
   ]
  },
  {
   "cell_type": "markdown",
   "metadata": {},
   "source": [
    "## 部署说明"
   ]
  },
  {
   "cell_type": "markdown",
   "metadata": {},
   "source": [
    "h2o提供两种部署方式：MOJO和POJO。\n",
    "\n",
    "MOJO: 适用于复杂模型，例如gbm,xgboost, ensamble model 等，需要依赖模型生成的文件。    \n",
    "POJO: 适用于分类和回归模型，以Java class的形式调用，不能超过1G，较简单的模型比mojo速度快。\n"
   ]
  }
 ],
 "metadata": {
  "kernelspec": {
   "display_name": "R-3.5.1",
   "language": "R",
   "name": "ir35"
  },
  "language_info": {
   "codemirror_mode": "r",
   "file_extension": ".r",
   "mimetype": "text/x-r-source",
   "name": "R",
   "pygments_lexer": "r",
   "version": "3.5.1"
  }
 },
 "nbformat": 4,
 "nbformat_minor": 2
}
